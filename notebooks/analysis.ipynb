{
 "cells": [
  {
   "cell_type": "code",
   "execution_count": null,
   "id": "962c31c7",
   "metadata": {
    "vscode": {
     "languageId": "plaintext"
    }
   },
   "outputs": [],
   "source": [
    "import pandas as pd, matplotlib.pyplot as plt\n",
    "df = pd.read_csv(\"logs/gen_metrics.csv\")   # log generation vs accuracy\n",
    "df.plot(x=\"generation\", y=\"accuracy\")\n",
    "plt.title(\"Prompt Evolution on GSM8K\")\n",
    "plt.ylabel(\"Exact‑match %\"); plt.xlabel(\"Generation\")\n",
    "plt.show()"
   ]
  }
 ],
 "metadata": {
  "language_info": {
   "name": "python"
  }
 },
 "nbformat": 4,
 "nbformat_minor": 5
}
